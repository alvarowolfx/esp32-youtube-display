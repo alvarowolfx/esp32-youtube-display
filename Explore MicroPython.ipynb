{
 "cells": [
  {
   "cell_type": "markdown",
   "metadata": {},
   "source": [
    "# Youtube TFT Board"
   ]
  },
  {
   "cell_type": "markdown",
   "metadata": {},
   "source": [
    "### Connect to micropython board"
   ]
  },
  {
   "cell_type": "code",
   "execution_count": 7,
   "metadata": {},
   "outputs": [
    {
     "name": "stdout",
     "output_type": "stream",
     "text": [
      "\u001b[34mConnecting to --port=/dev/tty.SLAB_USBtoUART --baud=115200 \u001b[0m\n",
      "\u001b[34mReady.\n",
      "\u001b[0m"
     ]
    }
   ],
   "source": [
    "#%serialconnect to --port=/dev/tty.wchusbserial1410 --baud=115200\n",
    "%serialconnect to --port=/dev/tty.SLAB_USBtoUART --baud=115200"
   ]
  },
  {
   "cell_type": "markdown",
   "metadata": {},
   "source": [
    "### Run some test commands"
   ]
  },
  {
   "cell_type": "code",
   "execution_count": 90,
   "metadata": {},
   "outputs": [
    {
     "name": "stdout",
     "output_type": "stream",
     "text": [
      "hello esp32\r\n"
     ]
    }
   ],
   "source": [
    "print ('hello esp32')"
   ]
  },
  {
   "cell_type": "code",
   "execution_count": 17,
   "metadata": {},
   "outputs": [],
   "source": [
    "from machine import Pin\n",
    "from time import sleep"
   ]
  },
  {
   "cell_type": "code",
   "execution_count": 47,
   "metadata": {},
   "outputs": [],
   "source": [
    "led = Pin(2, Pin.OUT)\n",
    "led.on()"
   ]
  },
  {
   "cell_type": "markdown",
   "metadata": {},
   "source": [
    "### Wifi Connection"
   ]
  },
  {
   "cell_type": "code",
   "execution_count": 3,
   "metadata": {},
   "outputs": [],
   "source": [
    "import network\n",
    "from config import ssid, password\n",
    "\n",
    "station = network.WLAN(network.STA_IF)\n",
    "station.active(True)\n",
    "station.connect(ssid, password)"
   ]
  },
  {
   "cell_type": "markdown",
   "metadata": {},
   "source": [
    "### Fetch youtube data"
   ]
  },
  {
   "cell_type": "code",
   "execution_count": 506,
   "metadata": {},
   "outputs": [],
   "source": [
    "from urequests import get"
   ]
  },
  {
   "cell_type": "code",
   "execution_count": 5,
   "metadata": {},
   "outputs": [],
   "source": [
    "from config import api_key, channel_id\n",
    "\n",
    "base_url = 'https://www.googleapis.com/youtube/v3'"
   ]
  },
  {
   "cell_type": "code",
   "execution_count": 508,
   "metadata": {},
   "outputs": [
    {
     "name": "stdout",
     "output_type": "stream",
     "text": [
      "https://www.googleapis.com/youtube/v3/channels?id=UC89Gzw1wIFXganAibMAnCOg&part=statistics&key=REDACTED\r\n"
     ]
    }
   ],
   "source": [
    "channel_data_url = base_url + '/channels?id=' + channel_id + '&part=statistics&key=' + api_key\n",
    "print(channel_data_url)\n",
    "res = get(channel_data_url, stream=True)"
   ]
  },
  {
   "cell_type": "code",
   "execution_count": 509,
   "metadata": {},
   "outputs": [
    {
     "name": "stdout",
     "output_type": "stream",
     "text": [
      "{'videoCount': '15', 'subscriberCount': '395', 'viewCount': '16997', 'hiddenSubscriberCount': False, 'commentCount': '0'}\r\n"
     ]
    }
   ],
   "source": [
    "json_data = res.json()\n",
    "items = json_data['items']\n",
    "channel_data = items[0]\n",
    "stats = channel_data['statistics']\n",
    "print(stats)"
   ]
  },
  {
   "cell_type": "code",
   "execution_count": 510,
   "metadata": {},
   "outputs": [
    {
     "name": "stdout",
     "output_type": "stream",
     "text": [
      "15 395 16997\r\n"
     ]
    }
   ],
   "source": [
    "video_count = stats['videoCount']\n",
    "sub_count = stats['subscriberCount']\n",
    "view_count = stats['viewCount']\n",
    "print(video_count,sub_count,view_count)"
   ]
  },
  {
   "cell_type": "code",
   "execution_count": 517,
   "metadata": {},
   "outputs": [
    {
     "name": "stdout",
     "output_type": "stream",
     "text": [
      "84944\n",
      "87728\n",
      "https://www.googleapis.com/youtube/v3/search?part=snippet&type=video&channelId=UC89Gzw1wIFXganAibMAnCOg&maxResults=10&order=viewCount&publishedAfter=2019-01-01T00:00:00Z&key=REDACTED\n",
      "."
     ]
    }
   ],
   "source": [
    "import gc\n",
    "\n",
    "def get_recent_videos(channel_id,results=10):\n",
    "    search_url = base_url + '/search?part=snippet&type=video'\n",
    "    search_url += '&channelId=' + channel_id\n",
    "    search_url += '&maxResults=' + str(results)\n",
    "    search_url += '&order=viewCount'\n",
    "    search_url += '&publishedAfter=2019-01-01T00:00:00Z'\n",
    "    search_url += '&key=' + api_key\n",
    "    print(search_url)\n",
    "    res = get(search_url, stream=True)\n",
    "    json_data = res.json()\n",
    "    items = json_data['items']\n",
    "    return items\n",
    "\n",
    "print(gc.mem_free())\n",
    "gc.collect()    \n",
    "print(gc.mem_free())\n",
    "videos = get_recent_videos(channel_id)"
   ]
  },
  {
   "cell_type": "code",
   "execution_count": 518,
   "metadata": {},
   "outputs": [
    {
     "name": "stdout",
     "output_type": "stream",
     "text": [
      "[{'id': 'SY8xaJotS7M', 'title': 'Tour na Minha Casa Inteligente 2019'}, {'id': 'FU8GYvFz-QU', 'title': 'Novidades IoT #5 - Internet dos Pombos, ESP32 Telefone, Cafeteira do futuro e Camera por voz'}, {'id': '5aahcavra0E', 'title': 'Novidades IoT #1 - NFC, Google Cloud IoT Device SDK,  Blockchain + IoT e Campus Party'}, {'id': '39E8qGwYr0g', 'title': 'Novidades IoT #2 - TensorFlow em Microcontroladores, Google Coral, Ethereum e Hamsters saud\\xe1veis'}, {'id': '2wgBHPRbB8g', 'title': 'Novidades IoT #4 - NVIDIA Jetson, Vis\\xe3o Computacional, Automa\\xe7\\xe3o Residencial e conex\\xe3o com a Nuvem'}, {'id': 'gYWJMSNDD_0', 'title': 'Novidades IoT #3 - Impress\\xe3o 3d com IA, Sony e Raspberry Pi, Jogos no ESP8266 e formato Feather'}]\r\n"
     ]
    }
   ],
   "source": [
    "videos = map(lambda video: { \"id\": video['id']['videoId'], \"title\": video['snippet']['title'] }, videos)\n",
    "videos = list(videos)\n",
    "print(videos)"
   ]
  },
  {
   "cell_type": "code",
   "execution_count": 529,
   "metadata": {},
   "outputs": [
    {
     "name": "stdout",
     "output_type": "stream",
     "text": [
      "https://www.googleapis.com/youtube/v3/videos?part=statistics&id=SY8xaJotS7M&key=REDACTED\n",
      "https://www.googleapis.com/youtube/v3/videos?part=statistics&id=FU8GYvFz-QU&key=REDACTED\n",
      "https://www.googleapis.com/youtube/v3/videos?part=statistics&id=5aahcavra0E&key=REDACTED\n",
      "https://www.googleapis.com/youtube/v3/videos?part=statistics&id=39E8qGwYr0g&key=REDACTED\n",
      ".https://www.googleapis.com/youtube/v3/videos?part=statistics&id=2wgBHPRbB8g&key=REDACTED\n",
      "https://www.googleapis.com/youtube/v3/videos?part=statistics&id=gYWJMSNDD_0&key=REDACTED\n"
     ]
    }
   ],
   "source": [
    "def get_video_stat(video_id):\n",
    "    video_url = base_url + '/videos?part=statistics'\n",
    "    video_url += '&id=' + video_id\n",
    "    video_url += '&key=' + api_key\n",
    "    print(video_url)\n",
    "    res = get(video_url, stream=True)\n",
    "    json_data = res.json()\n",
    "    items = json_data['items']\n",
    "    data = items[0]\n",
    "    stat = data['statistics']\n",
    "    return stat\n",
    "\n",
    "for video in videos:\n",
    "    stat = get_video_stat(video['id'])\n",
    "    video['stat'] = stat    "
   ]
  },
  {
   "cell_type": "code",
   "execution_count": 426,
   "metadata": {},
   "outputs": [
    {
     "name": "stdout",
     "output_type": "stream",
     "text": [
      "[{'id': 'SY8xaJotS7M', 'title': 'Tour na Minha Casa Inteligente 2019', 'stat': {'commentCount': '26', 'dislikeCount': '0', 'favoriteCount': '0', 'viewCount': '1130', 'likeCount': '165'}}, {'id': 'FU8GYvFz-QU', 'title': 'Novidades IoT #5 - Internet dos Pombos, ESP32 Telefone, Cafeteira do futuro e Camera por voz', 'stat': {'commentCount': '3', 'dislikeCount': '0', 'favoriteCount': '0', 'viewCount': '259', 'likeCount': '36'}}, {'id': '5aahcavra0E', 'title': 'Novidades IoT #1 - NFC, Google Cloud IoT Device SDK,  Blockchain + IoT e Campus Party', 'stat': {'commentCount': '16', 'dislikeCount': '0', 'favoriteCount': '0', 'viewCount': '209', 'likeCount': '42'}}, {'id': '39E8qGwYr0g', 'title': 'Novidades IoT #2 - TensorFlow em Microcontroladores, Google Coral, Ethereum e Hamsters saud\\xe1veis', 'stat': {'commentCount': '6', 'dislikeCount': '1', 'favoriteCount': '0', 'viewCount': '188', 'likeCount': '26'}}, {'id': '2wgBHPRbB8g', 'title': 'Novidades IoT #4 - NVIDIA Jetson, Vis\\xe3o Computacional, Automa\\xe7\\xe3o Residencial e conex\\xe3o com a Nuvem', 'stat': {'commentCount': '4', 'dislikeCount': '0', 'favoriteCount': '0', 'viewCount': '163', 'likeCount': '35'}}, {'id': 'gYWJMSNDD_0', 'title': 'Novidades IoT #3 - Impress\\xe3o 3d com IA, Sony e Raspberry Pi, Jogos no ESP8266 e formato Feather', 'stat': {'commentCount': '5', 'dislikeCount': '0', 'favoriteCount': '0', 'viewCount': '104', 'likeCount': '21'}}]\r\n"
     ]
    }
   ],
   "source": [
    "print(videos)"
   ]
  },
  {
   "cell_type": "code",
   "execution_count": 519,
   "metadata": {},
   "outputs": [
    {
     "name": "stdout",
     "output_type": "stream",
     "text": [
      "65856\n",
      "89408\n"
     ]
    }
   ],
   "source": [
    "print(gc.mem_free())\n",
    "gc.collect()    \n",
    "print(gc.mem_free())"
   ]
  },
  {
   "cell_type": "markdown",
   "metadata": {},
   "source": [
    "### TFT Display"
   ]
  },
  {
   "cell_type": "code",
   "execution_count": 520,
   "metadata": {},
   "outputs": [],
   "source": [
    "import st7735\n",
    "from rgb import color565\n",
    "from machine import SPI,Pin\n",
    "import machine"
   ]
  },
  {
   "cell_type": "code",
   "execution_count": 521,
   "metadata": {},
   "outputs": [],
   "source": [
    "spi = SPI(-1,baudrate=64000000, sck=Pin(26), miso=Pin(5), mosi=Pin(22))\n",
    "cs = Pin(16) # D8\n",
    "dc = Pin(21) # D3\n",
    "rst = Pin(17) # D4\n",
    "\n",
    "w = 128\n",
    "h = 160\n",
    "x = 0\n",
    "y = 0\n",
    "\n",
    "display = st7735.ST7735R(spi, dc=dc,cs=cs,rst=rst)"
   ]
  },
  {
   "cell_type": "code",
   "execution_count": 522,
   "metadata": {},
   "outputs": [],
   "source": [
    "display.fill(color565(255,255,255))"
   ]
  },
  {
   "cell_type": "code",
   "execution_count": 527,
   "metadata": {},
   "outputs": [],
   "source": [
    "import framebuf\n",
    "import gc\n",
    "buf = bytearray(w * h * 2)\n",
    "fb = framebuf.FrameBuffer(buf, w, h, framebuf.RGB565)\n",
    "gc.collect()"
   ]
  },
  {
   "cell_type": "code",
   "execution_count": 530,
   "metadata": {},
   "outputs": [],
   "source": [
    "white = color565(255,255,255)\n",
    "red = color565(255,0,0)\n",
    "black = color565(0,0,0)\n",
    "fb.fill(white)\n",
    "\n",
    "fb.fill_rect(0,0,w,16,red)\n",
    "fb.text('Youtube Stats',10,5,white)\n",
    "fb.hline(0, 16, h, white)\n",
    "\n",
    "fb.fill_rect(0,17,w,27,black)\n",
    "fb.text(str(view_count) + ' Views',4,22,white)\n",
    "fb.text(str(sub_count) + ' Subscribers',4,32,white)\n",
    "#fb.text(str(video_count) + ' Videos',4,50,red)\n",
    "fb.hline(0, 44, h, red)\n",
    "\n",
    "#print(videos)\n",
    "# 'stat': {'commentCount': '5', 'dislikeCount': '0', 'favoriteCount': '0', 'viewCount': '104', 'likeCount': '21'}}]\n",
    "# print(videos[0]['title'])\n",
    "i = 0\n",
    "for video in videos:\n",
    "    fb.text(video['title'],4,48 + i*20,black)\n",
    "    fb.text(video['stat']['viewCount'] + ' | ' + video['stat']['likeCount'] ,4,58 + i*20,red)\n",
    "    i+=1\n",
    "\n",
    "display.blit_buffer(buf, x, y, w, h)\n",
    "gc.collect()"
   ]
  },
  {
   "cell_type": "markdown",
   "metadata": {},
   "source": []
  }
 ],
 "metadata": {
  "kernelspec": {
   "display_name": "MicroPython - USB",
   "language": "micropython",
   "name": "micropython"
  },
  "language_info": {
   "codemirror_mode": "python",
   "file_extension": ".py",
   "mimetype": "text/python",
   "name": "micropython"
  }
 },
 "nbformat": 4,
 "nbformat_minor": 2
}
